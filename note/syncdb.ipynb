{
 "cells": [
  {
   "cell_type": "code",
   "execution_count": 1,
   "id": "7f31a256-603a-4449-81f7-ec78b780726a",
   "metadata": {},
   "outputs": [],
   "source": [
    "import pandas as pd \n",
    "import requests\n",
    "from pandasql import sqldf\n",
    "ep = \"https://raw.githubusercontent.com/ppabam/nextjs-fastapi-starter/refs/heads/main/endpoints.json\"\n"
   ]
  },
  {
   "cell_type": "code",
   "execution_count": 2,
   "id": "e937e9aa-2a3b-4577-a53a-198cd1fe47d8",
   "metadata": {},
   "outputs": [
    {
     "name": "stdout",
     "output_type": "stream",
     "text": [
      "[('TOM', 'https://ac.sunsin.shop/api/py/select_all'), ('jiwon', 'https://agecal.wodan10.shop/api/py/select_all'), ('heejin', 'https://age.journeyjean.shop/api/py/select_all'), ('hyun', 'https://agecalculator.calcalhan.store/api/py/select_all'), ('nuni', 'https://ac.nunininu.shop/api/py/select_all'), ('lucas', 'https://ac.lucas12.store/api/py/select_all'), ('SEO', 'https://ac.seo-sigma.shop/api/py/select_all'), ('JERRY', 'https://jooon.vercel.app/api/py/select_all')]\n"
     ]
    }
   ],
   "source": [
    "res = requests.get(ep)\n",
    "datamain = res.json()\n",
    "endpoint = datamain['endpoints']\n",
    "del endpoint[4:6]\n",
    "syncmem = [(i['name'],i['url']) for i in endpoint]\n",
    "print(list(syncmem))"
   ]
  },
  {
   "cell_type": "code",
   "execution_count": 3,
   "id": "7b64200c-b7cf-4e1f-ba70-f1ef9f153a5d",
   "metadata": {},
   "outputs": [
    {
     "name": "stdout",
     "output_type": "stream",
     "text": [
      "200\n",
      "200\n",
      "200\n",
      "200\n",
      "200\n",
      "200\n",
      "200\n",
      "200\n"
     ]
    }
   ],
   "source": [
    "for i in range(len(syncmem)):\n",
    "    resmem = requests.get(syncmem[i][1])\n",
    "    print(resmem.status_code)"
   ]
  },
  {
   "cell_type": "code",
   "execution_count": 21,
   "id": "3291c4c9-7714-4167-822a-23113eac3825",
   "metadata": {},
   "outputs": [
    {
     "name": "stdout",
     "output_type": "stream",
     "text": [
      "[('시래기찜닭, 마라로제찜닭', 3, '2025-02-07'), ('제육볶음, 고등어구이', 3, '2025-02-10'), ('뷔페', 3, '2025-02-11'), ('참치김치찌개', 7, '2025-02-11'), ('된장찌개', 7, '2025-02-10'), ('고등어구이', 4, '2025-02-10'), ('순두부찌개', 10, '2025-02-11'), ('김치찌개', 10, '2025-02-10'), ('설렁탕,육회비빔밥', 5, '2025-02-07'), ('설렁탕', 1, '2025-02-07'), ('제육볶음', 8, '2025-02-12'), ('햄버거', 3, '2025-01-01'), ('크림소스에버무린파스타그런데이제양송이를곁들인', 10, '2025-02-06'), ('찜닭', 10, '2025-02-07'), ('제육볶음', 10, '2025-02-12'), ('순대국', 9, '2025-02-11'), ('순대국', 1, '2025-01-01'), ('베이컨토마토디럭스세트', 4, '2025-02-06'), ('라면', 4, '2025-02-09')]\n"
     ]
    }
   ],
   "source": [
    "sync_list=[]\n",
    "for i in range(len(syncmem)):\n",
    "    resmem = requests.get(syncmem[i][1])\n",
    "    data = resmem.json()\n",
    "    df1 = pd.DataFrame(data)\n",
    "    df1 = df1.astype(str).apply(lambda col: col.map(str.lower))#lambda 사용 소문자통일\n",
    "    resme = requests.get(\"https://jacob0503.vercel.app/api/py/select_table\")\n",
    "    datame = resme.json()\n",
    "    dfme = pd.DataFrame(datame)\n",
    "    dfme = dfme.astype(str).apply(lambda col: col.map(str.lower))\n",
    "    merge_df = pd.merge(df1, dfme, on=[\"dt\",\"name\"], how=\"left\", indicator=True)\n",
    "    df_diff_1 = merge_df[merge_df['_merge'] == 'left_only'].drop(['_merge','menu_name_y'] , axis=1)\n",
    "    df_sync = df_diff_1.sort_values(by=['name']).reset_index(drop=True)\n",
    "    if \"menu_name\" not in df_sync.columns and \"menu_name_x\" in df_sync.columns:#컬럼명 변경\n",
    "        df_sync.rename(columns={\"menu_name_x\":\"menu_name\"},inplace=True)\n",
    "    if not df_sync.empty:\n",
    "        for row in df_sync.itertuples(index=False):\n",
    "            sync_list.append(tuple(row))\n",
    "members = {\"seo\": 5, \"tom\": 1, \"cho\": 2, \"hyun\": 3, \"nuni\": 10, \"jerry\": 4, \"jacob\": 7, \"jiwon\": 6, \"lucas\": 9, \"heejin\": 8}\n",
    "sync_list=[(i[0],members.get(i[1], i[1]),i[2]) for i in sync_list]   \n",
    "print(sync_list)\n",
    "    "
   ]
  },
  {
   "cell_type": "code",
   "execution_count": 7,
   "id": "123eefce-9e92-4fe7-9741-0f6b3c96afc2",
   "metadata": {},
   "outputs": [
    {
     "name": "stdout",
     "output_type": "stream",
     "text": [
      "[('시래기찜닭, 마라로제찜닭', 'hyun', '2025-02-07'), ('제육볶음, 고등어구이', 'hyun', '2025-02-10'), ('뷔페', 'hyun', '2025-02-11'), ('참치김치찌개', 'jacob', '2025-02-11'), ('된장찌개', 'jacob', '2025-02-10'), ('고등어구이', 'jerry', '2025-02-10'), ('순두부찌개', 'nuni', '2025-02-11'), ('김치찌개', 'nuni', '2025-02-10'), ('설렁탕,육회비빔밥', 'seo', '2025-02-07'), ('설렁탕', 'tom', '2025-02-07')]\n"
     ]
    }
   ],
   "source": [
    "import pandas as pd \n",
    "import requests\n",
    "\n",
    "sync_list=[]\n",
    "resmem = requests.get(\"https://ac.sunsin.shop/api/py/select_all\")\n",
    "data = resmem.json()\n",
    "df1 = pd.DataFrame(data)\n",
    "df1 = df1.astype(str).apply(lambda col: col.map(str.lower))#lambda 사용 소문자통일\n",
    "resme = requests.get(\"https://jacob0503.vercel.app/api/py/select_table\")\n",
    "datame = resme.json()\n",
    "dfme = pd.DataFrame(datame)\n",
    "dfme = dfme.astype(str).apply(lambda col: col.map(str.lower))\n",
    "merge_df = pd.merge(df1, dfme, on=[\"dt\",\"name\"], how=\"left\", indicator=True)\n",
    "df_diff_1 = merge_df[merge_df['_merge'] == 'left_only'].drop(['_merge','menu_name_y'] , axis=1)\n",
    "df_sync = df_diff_1.sort_values(by=['name']).reset_index(drop=True)\n",
    "if \"menu_name\" not in df_sync.columns and \"menu_name_x\" in df_sync.columns:#컬럼명 변경\n",
    "    df_sync.rename(columns={\"menu_name_x\":\"menu_name\"},inplace=True)\n",
    "if not df_sync.empty:\n",
    "    for row in df_sync.itertuples(index=False):\n",
    "        sync_list.append(tuple(row))\n",
    "#members = {\"seo\": 5, \"tom\": 1, \"cho\": 2, \"hyun\": 3, \"nuni\": 10, \"jerry\": 4, \"jacob\": 7, \"jiwon\": 6, \"lucas\": 9, \"heejin\": 8}\n",
    "#sync_list=[(i[0],members.get(i[1], i[1]),i[2]) for i in sync_list]   \n",
    "print(sync_list)"
   ]
  },
  {
   "cell_type": "code",
   "execution_count": null,
   "id": "19beb701-a74b-41a6-9047-540a39653f8e",
   "metadata": {},
   "outputs": [],
   "source": []
  }
 ],
 "metadata": {
  "kernelspec": {
   "display_name": "Python 3 (ipykernel)",
   "language": "python",
   "name": "python3"
  },
  "language_info": {
   "codemirror_mode": {
    "name": "ipython",
    "version": 3
   },
   "file_extension": ".py",
   "mimetype": "text/x-python",
   "name": "python",
   "nbconvert_exporter": "python",
   "pygments_lexer": "ipython3",
   "version": "3.10.12"
  }
 },
 "nbformat": 4,
 "nbformat_minor": 5
}
