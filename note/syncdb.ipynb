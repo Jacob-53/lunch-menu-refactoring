{
 "cells": [
  {
   "cell_type": "code",
   "execution_count": 1,
   "id": "7f31a256-603a-4449-81f7-ec78b780726a",
   "metadata": {},
   "outputs": [],
   "source": [
    "import pandas as pd \n",
    "import requests\n",
    "from pandasql import sqldf\n",
    "ep = \"https://raw.githubusercontent.com/ppabam/nextjs-fastapi-starter/refs/heads/main/endpoints.json\"\n"
   ]
  },
  {
   "cell_type": "code",
   "execution_count": 60,
   "id": "e937e9aa-2a3b-4577-a53a-198cd1fe47d8",
   "metadata": {},
   "outputs": [
    {
     "name": "stdout",
     "output_type": "stream",
     "text": [
      "[('TOM', 'https://ac.sunsin.shop/api/py/select_all'), ('jiwon', 'https://agecal.wodan10.shop/api/py/select_all'), ('heejin', 'https://age.journeyjean.shop/api/py/select_all'), ('hyun', 'https://agecalculator.calcalhan.store/api/py/select_all'), ('nuni', 'https://ac.nunininu.shop/api/py/select_all'), ('lucas', 'https://ac.lucas12.store/api/py/select_all'), ('SEO', 'https://ac.seo-sigma.shop/api/py/select_all'), ('JERRY', 'https://jooon.vercel.app/api/py/select_all')]\n"
     ]
    }
   ],
   "source": [
    "res = requests.get(ep)\n",
    "datamain = res.json()\n",
    "endpoint = datamain['endpoints']\n",
    "del endpoint[4:6]\n",
    "syncmem = [(i['name'],i['url']) for i in endpoint]\n",
    "print(list(syncmem))"
   ]
  },
  {
   "cell_type": "code",
   "execution_count": 54,
   "id": "7b64200c-b7cf-4e1f-ba70-f1ef9f153a5d",
   "metadata": {},
   "outputs": [
    {
     "name": "stdout",
     "output_type": "stream",
     "text": [
      "200\n",
      "200\n",
      "200\n",
      "200\n",
      "401\n",
      "200\n",
      "200\n",
      "200\n",
      "200\n"
     ]
    }
   ],
   "source": [
    "for i in range(len(syncmem)):\n",
    "    resmem = requests.get(syncmem[i][1])\n",
    "    print(resmem.status_code)"
   ]
  },
  {
   "cell_type": "code",
   "execution_count": 52,
   "id": "3291c4c9-7714-4167-822a-23113eac3825",
   "metadata": {},
   "outputs": [
    {
     "name": "stdout",
     "output_type": "stream",
     "text": [
      "     menu_name_x   name          dt menu_name_y\n",
      "0          고등어구이  JERRY  2025-02-10         NaN\n",
      "1      설렁탕,육회비빔밥    SEO  2025-02-07         NaN\n",
      "2            설렁탕    TOM  2025-02-07         NaN\n",
      "3  시래기찜닭, 마라로제찜닭   hyun  2025-02-07         NaN\n",
      "4    제육볶음, 고등어구이   hyun  2025-02-10         NaN\n",
      "5             뷔페   hyun  2025-02-11         NaN\n",
      "6         참치김치찌개  jacob  2025-02-11         NaN\n",
      "7           된장찌개  jacob  2025-02-10         NaN\n",
      "8          순두부찌개   nuni  2025-02-11         NaN\n",
      "9           김치찌개   nuni  2025-02-10         NaN\n",
      "Empty DataFrame\n",
      "Columns: [menu_name_x, name, dt, menu_name_y]\n",
      "Index: []\n",
      "  menu_name_x    name          dt menu_name_y\n",
      "0        제육볶음  heejin  2025-02-12         NaN\n",
      "               menu_name_x  name          dt menu_name_y\n",
      "0  크림소스에버무린파스타그런데이제양송이를곁들인  nuni  2025-02-06         NaN\n",
      "1                       찜닭  nuni  2025-02-07         NaN\n",
      "2                     제육볶음  nuni  2025-02-12         NaN\n",
      "  menu_name_x   name          dt menu_name_y\n",
      "0         순대국  lucas  2025-02-11         NaN\n",
      "  menu_name_x name          dt menu_name_y\n",
      "0         순대국  TOM  2025-01-01         NaN\n",
      "     menu_name_x  name          dt menu_name_y\n",
      "0             한솥   CHO  2025-01-13         NaN\n",
      "1           스파게티   CHO  2025-01-17         NaN\n",
      "2           스파게티   CHO  2025-01-21         NaN\n",
      "3            간짜장   CHO  2025-01-16         NaN\n",
      "4            파스타   CHO  2025-01-15         NaN\n",
      "..           ...   ...         ...         ...\n",
      "98         육회비빔밥  NUNI  2025-01-23         NaN\n",
      "99   고기김치찌개,라면세트  NUNI  2025-01-13         NaN\n",
      "100       얼큰 설렁탕  NUNI  2025-01-09         NaN\n",
      "101        순두부찌개  NUNI  2025-01-15         NaN\n",
      "102         부대찌개  NUNI  2025-01-10         NaN\n",
      "\n",
      "[103 rows x 4 columns]\n"
     ]
    }
   ],
   "source": [
    "for i in range(len(syncmem)):\n",
    "    resmem = requests.get(syncmem[i][1])\n",
    "    data = resmem.json()\n",
    "    df1 = pd.DataFrame(data)\n",
    "    resme = requests.get(\"https://jacob0503.vercel.app/api/py/select_table\")\n",
    "    datame = resme.json()\n",
    "    dfme = pd.DataFrame(datame)\n",
    "    merge_df = pd.merge(df1, dfme, on=[\"dt\",\"name\"], how=\"left\", indicator=True)\n",
    "    df_diff_1 = merge_df[merge_df['_merge'] == 'left_only'].drop('_merge' , axis=1)\n",
    "    df_diff_2 = df_diff_1.sort_values(by=['name']).reset_index(drop=True)\n",
    "    print(df_diff_2)"
   ]
  },
  {
   "cell_type": "code",
   "execution_count": null,
   "id": "123eefce-9e92-4fe7-9741-0f6b3c96afc2",
   "metadata": {},
   "outputs": [],
   "source": []
  },
  {
   "cell_type": "code",
   "execution_count": null,
   "id": "19beb701-a74b-41a6-9047-540a39653f8e",
   "metadata": {},
   "outputs": [],
   "source": []
  }
 ],
 "metadata": {
  "kernelspec": {
   "display_name": "Python 3 (ipykernel)",
   "language": "python",
   "name": "python3"
  },
  "language_info": {
   "codemirror_mode": {
    "name": "ipython",
    "version": 3
   },
   "file_extension": ".py",
   "mimetype": "text/x-python",
   "name": "python",
   "nbconvert_exporter": "python",
   "pygments_lexer": "ipython3",
   "version": "3.10.12"
  }
 },
 "nbformat": 4,
 "nbformat_minor": 5
}
