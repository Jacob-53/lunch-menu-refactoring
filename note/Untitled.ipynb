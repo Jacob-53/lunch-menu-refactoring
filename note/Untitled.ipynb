{
 "cells": [
  {
   "cell_type": "code",
   "execution_count": 2,
   "id": "93209314-4bcf-4b11-b55b-843ce7cd581c",
   "metadata": {},
   "outputs": [
    {
     "name": "stdout",
     "output_type": "stream",
     "text": [
      "[('시래기찜닭, 마라로제찜닭', 3, '2025-02-07'), ('제육볶음, 고등어구이', 3, '2025-02-10'), ('뷔페', 3, '2025-02-11'), ('참치김치찌개', 7, '2025-02-11'), ('된장찌개', 7, '2025-02-10'), ('고등어구이', 4, '2025-02-10'), ('순두부찌개', 10, '2025-02-11'), ('김치찌개', 10, '2025-02-10'), ('설렁탕,육회비빔밥', 5, '2025-02-07'), ('설렁탕', 1, '2025-02-07')]\n"
     ]
    }
   ],
   "source": [
    "members = {\"seo\": 5, \"tom\": 1, \"cho\": 2, \"hyun\": 3, \"nuni\": 10, \"jerry\": 4, \"jacob\": 7, \"jiwon\": 6, \"lucas\": 9, \"heejin\": 8}\n",
    "sync_list=[('시래기찜닭, 마라로제찜닭', 'hyun', '2025-02-07'), ('제육볶음, 고등어구이', 'hyun', '2025-02-10'), ('뷔페', 'hyun', '2025-02-11'), ('참치김치찌개', 'jacob', '2025-02-11'), ('된장찌개', 'jacob', '2025-02-10'), ('고등어구이', 'jerry', '2025-02-10'), ('순두부찌개', 'nuni', '2025-02-11'), ('김치찌개', 'nuni', '2025-02-10'), ('설렁탕,육회비빔밥', 'seo', '2025-02-07'), ('설렁탕', 'tom', '2025-02-07')]\n",
    "\n",
    "result=[]\n",
    "for i in sync_list:\n",
    "    result.append((i[0],members[i[1]],i[2]))\n",
    "\n",
    "print(result)\n",
    "#sync_list=[(i[0],members.get(i[1], i[1]),i[2]) for i in sync_list]  \n",
    "\n"
   ]
  },
  {
   "cell_type": "code",
   "execution_count": null,
   "id": "33b5bba6-f33d-4c04-a6c4-78a45291f75d",
   "metadata": {},
   "outputs": [],
   "source": []
  }
 ],
 "metadata": {
  "kernelspec": {
   "display_name": "Python 3 (ipykernel)",
   "language": "python",
   "name": "python3"
  },
  "language_info": {
   "codemirror_mode": {
    "name": "ipython",
    "version": 3
   },
   "file_extension": ".py",
   "mimetype": "text/x-python",
   "name": "python",
   "nbconvert_exporter": "python",
   "pygments_lexer": "ipython3",
   "version": "3.10.12"
  }
 },
 "nbformat": 4,
 "nbformat_minor": 5
}
